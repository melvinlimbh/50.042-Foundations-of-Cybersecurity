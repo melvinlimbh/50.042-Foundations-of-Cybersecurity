{
 "cells": [
  {
   "cell_type": "markdown",
   "id": "searching-pioneer",
   "metadata": {},
   "source": [
    "## FCS Lab 1 Submission Report"
   ]
  },
  {
   "cell_type": "markdown",
   "id": "raised-victim",
   "metadata": {},
   "source": [
    "* Name of Student(s): Lim Boon Han Melvin\n",
    "* Student ID(s): 1005288"
   ]
  },
  {
   "cell_type": "code",
   "execution_count": 1,
   "id": "closed-bacteria",
   "metadata": {},
   "outputs": [
    {
     "name": "stdout",
     "output_type": "stream",
     "text": [
      "Execution time: 2022-05-30 03:57:14\n"
     ]
    }
   ],
   "source": [
    "import datetime\n",
    "print(\"Execution time:\", datetime.datetime.now(datetime.timezone.utc).strftime(\"%Y-%m-%d %H:%M:%S\"))"
   ]
  },
  {
   "cell_type": "markdown",
   "id": "distributed-roots",
   "metadata": {},
   "source": [
    "### Part I: Substitution cipher  "
   ]
  },
  {
   "cell_type": "markdown",
   "id": "85a5d61f",
   "metadata": {},
   "source": [
    "I used an online website to count the letters for frequency analysis as the text was quite long, link given in the python file.\n",
    "After which, I tried substituting between the common letters and making out some of the commonly used english words like have / never.\n",
    "After a while, the mapping was noticeable and I was able to start on the code.\n",
    "\n",
    "At first, I tried to use dictionary for mapping and substitution as it was direct and concise, but it was tedious.\n",
    "\n",
    "So I used two lists of alphabets, 1 for ciphertext 1 for plaintext to use in mapping and substitution, and subsituted with the alphabets in lower case so that double replacement would not happen."
   ]
  },
  {
   "cell_type": "code",
   "execution_count": 6,
   "id": "gentle-demographic",
   "metadata": {},
   "outputs": [
    {
     "name": "stdout",
     "output_type": "stream",
     "text": [
      "what is symphogear. for a looooong, looong time i have never bothered engaging myself in this franchise. i did not understand what it is. now that the show is having its last season, i decided to finally give in, give symphogear a try from the very start. i wondered how have i missed out on the anime of the decade all these years. i honestly did not know what to expect watching the very first episode knowing absolutely nothing about the franchise. the show toyed with my emotions so much in that opening setpiece. it ended up being one of the most life affirming shows out there. a stunning display of idiocy and action that is both charming and captivating. it is confident in its strengths and parades its weaknesses proudly, a show that is both all style and all substance. oh but most of all, it is a true roller coaster of emotions, and i do not use that term lightly. i laughed, i cried, i got frustrated at the ineptitude and stupidity of both the characters and the creators, but most of all, i loved. when the curse of balal fell in place, songs still managed to bridge that gap and connect us all together. the one emotion the show never fails to deliver is hype. the surge of adrenaline and endorphins and all the chemicals in your brain whenever something awesome is happening onscreen is a rare treat in most other anime, but a constant occurrence in this show. the hype does occasionally fail to deliver, the higher expectations can sometimes be oh too much, but still, when you hear hibiki scream, you know she means business and join her in song. and those songs are precisely what keeps symphogear in the minds of many all this while. i am not an idol anime person, i despise most idol anime and yet. and yet. the moment i heard the songs for the first time right there on the idol concert, i was enthralled. i knew that regardless of how the show turned out, it would have great music. covering many genres, the show has a diverse palette of songs ranging from celtic rock to enka inspired tracks, there is no shortage of variety. yes there are songs that do not work well, but the ones that resonate far outweigh the occasional bad ones.  symphogear has to be taken in as a complete package. it truly is more than the sum of its parts. looking back, yes i can agree on all the flaws, some major, the show has had. yet in spite of it all, across seven years and five seasons. it is why i ultimately decided in awarding it with one of my rare nines. something this special, this inspirational, this long lasting is truly an experience to behold. for better for worse, it is the definitive anime that represents the decade. it may not have ended in the way i wanted, and it may not have that one kiss i was looking for, but it filled the hole in my heart, and with it ending, the gaping wound in my soul may never heal. maybe, for now, i will say that the show ended well. it was not perverted into a qombie franchise like others, nor did it stumble hard in its final moment and struggle to reclaim its past glory. it had shortcomings, but thinking back, the journey to the end has been a satisfying one throughout. so what is symphogear. it is a hybrid idol anime. it is an anime about fisting. it is five seasons and seven years long and has captivated the hearts of many. but most importantly, it is believing in the song of your heart.\n"
     ]
    }
   ],
   "source": [
    "!python3 ex1.py -i story_cipher.txt -o solution.txt"
   ]
  },
  {
   "cell_type": "markdown",
   "id": "severe-static",
   "metadata": {},
   "source": [
    "### Part II: Compromising OTP integrity"
   ]
  },
  {
   "cell_type": "markdown",
   "id": "82868cde",
   "metadata": {},
   "source": [
    "I did not use the decrypt() function, and encrypted everything with XOR(). We want new_cipher to be intended_message^OTP so that decrypting can be done with OTP to get the intended_message that we want to change to.\n",
    "\n",
    "But we are only given original_cipher = orignal_plaintext^OTP, so to get new_cipher we have to do:\n",
    "new_cipher = original_cipher^intended_message^original_plaintext\n",
    "            = original_cipher^intended_message^original_cipher^OTP\n",
    "            = intended_message^OTP\n",
    "            = changed_message\n",
    "\n",
    "The few lines of code gets the original_plaintext and changed_message"
   ]
  },
  {
   "cell_type": "code",
   "execution_count": 1,
   "id": "corresponding-calgary",
   "metadata": {},
   "outputs": [
    {
     "name": "stdout",
     "output_type": "stream",
     "text": [
      "b'Student ID 1000000 gets 0 points\\n'\n",
      "b'Student ID 1005288 gets 4 points\\n'\n"
     ]
    }
   ],
   "source": [
    "!python3 ex2.py"
   ]
  }
 ],
 "metadata": {
  "kernelspec": {
   "display_name": "Python 3.10.7 64-bit",
   "language": "python",
   "name": "python3"
  },
  "language_info": {
   "codemirror_mode": {
    "name": "ipython",
    "version": 3
   },
   "file_extension": ".py",
   "mimetype": "text/x-python",
   "name": "python",
   "nbconvert_exporter": "python",
   "pygments_lexer": "ipython3",
   "version": "3.10.7"
  },
  "vscode": {
   "interpreter": {
    "hash": "aee8b7b246df8f9039afb4144a1f6fd8d2ca17a180786b69acc140d282b71a49"
   }
  }
 },
 "nbformat": 4,
 "nbformat_minor": 5
}
